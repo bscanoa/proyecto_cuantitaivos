{
 "cells": [
  {
   "cell_type": "code",
   "execution_count": 1,
   "metadata": {},
   "outputs": [],
   "source": [
    "import spacy\n",
    "import es_core_news_sm\n",
    "import matplotlib.pyplot as plt\n",
    "import numpy as np\n",
    "import pandas as pd\n",
    "from collections import Counter\n",
    "import statistics as stat\n",
    "from langdetect import detect"
   ]
  },
  {
   "cell_type": "code",
   "execution_count": 2,
   "metadata": {},
   "outputs": [
    {
     "data": {
      "text/html": [
       "<div>\n",
       "<style scoped>\n",
       "    .dataframe tbody tr th:only-of-type {\n",
       "        vertical-align: middle;\n",
       "    }\n",
       "\n",
       "    .dataframe tbody tr th {\n",
       "        vertical-align: top;\n",
       "    }\n",
       "\n",
       "    .dataframe thead th {\n",
       "        text-align: right;\n",
       "    }\n",
       "</style>\n",
       "<table border=\"1\" class=\"dataframe\">\n",
       "  <thead>\n",
       "    <tr style=\"text-align: right;\">\n",
       "      <th></th>\n",
       "      <th>id</th>\n",
       "      <th>song_name</th>\n",
       "      <th>artist</th>\n",
       "      <th>lyric</th>\n",
       "      <th>lyric_by_e</th>\n",
       "      <th>lang</th>\n",
       "      <th>lyric_length</th>\n",
       "    </tr>\n",
       "  </thead>\n",
       "  <tbody>\n",
       "    <tr>\n",
       "      <th>0</th>\n",
       "      <td>1</td>\n",
       "      <td>Volver</td>\n",
       "      <td>Carlos Gardel</td>\n",
       "      <td>Yo adivino el parpadeo De las luces que a lo l...</td>\n",
       "      <td>Yo adivino el parpadeo De las luces que a lo l...</td>\n",
       "      <td>es</td>\n",
       "      <td>1223</td>\n",
       "    </tr>\n",
       "    <tr>\n",
       "      <th>1</th>\n",
       "      <td>2</td>\n",
       "      <td>Nostalgias</td>\n",
       "      <td>Carlos Gardel</td>\n",
       "      <td>Quiero emborrachar mi corazón Para apagar un l...</td>\n",
       "      <td>Quiero emborrachar mi corazón Para apagar un l...</td>\n",
       "      <td>es</td>\n",
       "      <td>1323</td>\n",
       "    </tr>\n",
       "    <tr>\n",
       "      <th>2</th>\n",
       "      <td>3</td>\n",
       "      <td>Cambalache</td>\n",
       "      <td>Carlos Gardel</td>\n",
       "      <td>El mundo fue y será una porquería, ya lo sé En...</td>\n",
       "      <td>El mundo fue y será una porquería, ya lo sé En...</td>\n",
       "      <td>es</td>\n",
       "      <td>1404</td>\n",
       "    </tr>\n",
       "    <tr>\n",
       "      <th>3</th>\n",
       "      <td>4</td>\n",
       "      <td>El Día Que Me Quieras</td>\n",
       "      <td>Carlos Gardel</td>\n",
       "      <td>Acaricia mi ensueño el suave murmullo de tu su...</td>\n",
       "      <td>Acaricia mi ensueño el suave murmullo de tu su...</td>\n",
       "      <td>es</td>\n",
       "      <td>874</td>\n",
       "    </tr>\n",
       "    <tr>\n",
       "      <th>4</th>\n",
       "      <td>5</td>\n",
       "      <td>Mano A Mano</td>\n",
       "      <td>Carlos Gardel</td>\n",
       "      <td>Rechiflado en mi tristeza, hoy te evoco y veo ...</td>\n",
       "      <td>Rechiflado en mi tristeza, hoy te evoco y veo ...</td>\n",
       "      <td>es</td>\n",
       "      <td>1483</td>\n",
       "    </tr>\n",
       "  </tbody>\n",
       "</table>\n",
       "</div>"
      ],
      "text/plain": [
       "   id              song_name         artist  \\\n",
       "0   1                 Volver  Carlos Gardel   \n",
       "1   2             Nostalgias  Carlos Gardel   \n",
       "2   3             Cambalache  Carlos Gardel   \n",
       "3   4  El Día Que Me Quieras  Carlos Gardel   \n",
       "4   5            Mano A Mano  Carlos Gardel   \n",
       "\n",
       "                                               lyric  \\\n",
       "0  Yo adivino el parpadeo De las luces que a lo l...   \n",
       "1  Quiero emborrachar mi corazón Para apagar un l...   \n",
       "2  El mundo fue y será una porquería, ya lo sé En...   \n",
       "3  Acaricia mi ensueño el suave murmullo de tu su...   \n",
       "4  Rechiflado en mi tristeza, hoy te evoco y veo ...   \n",
       "\n",
       "                                          lyric_by_e lang  lyric_length  \n",
       "0  Yo adivino el parpadeo De las luces que a lo l...   es          1223  \n",
       "1  Quiero emborrachar mi corazón Para apagar un l...   es          1323  \n",
       "2  El mundo fue y será una porquería, ya lo sé En...   es          1404  \n",
       "3  Acaricia mi ensueño el suave murmullo de tu su...   es           874  \n",
       "4  Rechiflado en mi tristeza, hoy te evoco y veo ...   es          1483  "
      ]
     },
     "execution_count": 2,
     "metadata": {},
     "output_type": "execute_result"
    }
   ],
   "source": [
    "genre = ''\n",
    "tango = pd.read_csv(f'/mnt/s/stiven/proyects/final_cuanti/songs_by_genre/{genre}.tsv', sep='|', header=0,\n",
    "                 names = ['id', 'song_name', 'artist', 'lyric', 'lyric_by_e'])\n",
    "# # elmininar valores nulos\n",
    "tango = tango.dropna(axis = 0, how ='any') \n",
    "# identificar el idioma\n",
    "tango['lang'] = tango['lyric'].apply(detect)\n",
    "# crear una columna con el tamaña de la letra en caracteres\n",
    "tango[\"lyric_length\"]= tango[\"lyric\"].str.len()\n",
    "# elimina canciones duplicadas\n",
    "tango = tango.drop_duplicates(['song_name'])\n",
    "# elminar canciones que no esten en español\n",
    "indexLang = tango[tango['lang']!='es'].index\n",
    "tango.drop(indexLang, inplace=True)\n",
    "tango.head()"
   ]
  },
  {
   "cell_type": "code",
   "execution_count": 3,
   "metadata": {},
   "outputs": [
    {
     "data": {
      "text/plain": [
       "es    890\n",
       "Name: lang, dtype: int64"
      ]
     },
     "execution_count": 3,
     "metadata": {},
     "output_type": "execute_result"
    }
   ],
   "source": [
    "tango['lang'].value_counts()"
   ]
  },
  {
   "cell_type": "code",
   "execution_count": 4,
   "metadata": {},
   "outputs": [],
   "source": [
    "a = tango['lyric'].str.lower().str.cat(sep=' ')\n",
    "nlp = es_core_news_sm.load()\n",
    "doc = nlp(a)"
   ]
  },
  {
   "cell_type": "code",
   "execution_count": 5,
   "metadata": {},
   "outputs": [
    {
     "name": "stdout",
     "output_type": "stream",
     "text": [
      "Moda: 992, Media: 915.4353205849269, Mediana: 883.0, Desviación estandar: 271.3652408849654\n",
      "1er Q: 745.0, 2er Q: 883.0, 3er Q: 1050.0\n"
     ]
    },
    {
     "data": {
      "image/png": "[encoded data removed]",
      "text/plain": [
       "<Figure size 432x288 with 1 Axes>"
      ]
     },
     "metadata": {
      "needs_background": "light"
     },
     "output_type": "display_data"
    }
   ],
   "source": [
    "tango = tango.dropna(axis = 0, how ='any') \n",
    "dat = tango['lyric_length'].to_list()\n",
    "sorted(dat, reverse=True).pop(0)\n",
    "mdat = np.ma.masked_array(dat,np.isnan(dat))\n",
    "mdat = np.delete(sorted(mdat, reverse=True), 0) #elminar el valor más grande\n",
    "\n",
    "\n",
    "media_ly_lg = np.mean(mdat)\n",
    "mediana_ly_lg = np.median(mdat)\n",
    "moda_ly_lg = stat.mode(dat)\n",
    "desv_estandar = np.std(mdat)\n",
    "primerq = np.quantile(mdat, 0.25)\n",
    "segundoq = np.quantile(mdat, 0.50)\n",
    "tercerq = np.quantile(mdat, 0.75)\n",
    "plt.hist(mdat, bins=25)\n",
    "\n",
    "print(f'Moda: {moda_ly_lg}, Media: {media_ly_lg}, Mediana: {mediana_ly_lg}, Desviación estandar: {desv_estandar}')\n",
    "print(f'1er Q: {primerq}, 2er Q: {segundoq}, 3er Q: {tercerq}')"
   ]
  },
  {
   "cell_type": "code",
   "execution_count": 6,
   "metadata": {},
   "outputs": [
    {
     "data": {
      "text/plain": [
       "{'whiskers': [<matplotlib.lines.Line2D at 0x7fbe51918940>,\n",
       "  <matplotlib.lines.Line2D at 0x7fbe51918c10>],\n",
       " 'caps': [<matplotlib.lines.Line2D at 0x7fbe51918fa0>,\n",
       "  <matplotlib.lines.Line2D at 0x7fbe5194f1f0>],\n",
       " 'boxes': [<matplotlib.lines.Line2D at 0x7fbe51918790>],\n",
       " 'medians': [<matplotlib.lines.Line2D at 0x7fbe5194f4c0>],\n",
       " 'fliers': [<matplotlib.lines.Line2D at 0x7fbe5194f790>],\n",
       " 'means': []}"
      ]
     },
     "execution_count": 6,
     "metadata": {},
     "output_type": "execute_result"
    },
    {
     "data": {
      "image/png": "[encoded data removed]",
      "text/plain": [
       "<Figure size 432x288 with 1 Axes>"
      ]
     },
     "metadata": {
      "needs_background": "light"
     },
     "output_type": "display_data"
    }
   ],
   "source": [
    "plt.boxplot(mdat)"
   ]
  },
  {
   "cell_type": "code",
   "execution_count": 7,
   "metadata": {},
   "outputs": [
    {
     "data": {
      "text/plain": [
       "2542"
      ]
     },
     "execution_count": 7,
     "metadata": {},
     "output_type": "execute_result"
    }
   ],
   "source": [
    "from collections import Counter\n",
    "words = [token.text\n",
    "         for token in doc\n",
    "         if not token.is_stop and not token.is_punct]\n",
    "\n",
    "# noun tokens that arent stop words or punctuations\n",
    "nouns = [token.text\n",
    "         for token in doc\n",
    "         if (not token.is_stop and\n",
    "             not token.is_punct and\n",
    "             token.pos_ == \"NOUN\")]\n",
    "\n",
    "word_freq = Counter(words)\n",
    "common_words = word_freq.most_common(5)\n",
    "word_freq.pop('y')\n",
    "word_freq.pop(' ')\n",
    "word_freq.pop('a')"
   ]
  },
  {
   "cell_type": "code",
   "execution_count": 10,
   "metadata": {},
   "outputs": [
    {
     "data": {
      "image/png": "[encoded data removed]",
      "text/plain": [
       "<Figure size 432x288 with 1 Axes>"
      ]
     },
     "metadata": {
      "needs_background": "light"
     },
     "output_type": "display_data"
    }
   ],
   "source": [
    "data = word_freq.most_common(30)\n",
    "\n",
    "word = []\n",
    "frequency = []\n",
    "\n",
    "for i in range(len(data)):\n",
    "  word.append(data[i][0])\n",
    "  frequency.append(data[i][1])\n",
    "\n",
    "width = 1.0 \n",
    "fig, ax = plt.subplots()\n",
    "ax.set_xticklabels(word, rotation=90)\n",
    "ax.plot(word, frequency, width, color='r' )\n",
    "plt.show()"
   ]
  },
  {
   "cell_type": "code",
   "execution_count": 11,
   "metadata": {},
   "outputs": [
    {
     "name": "stdout",
     "output_type": "stream",
     "text": [
      "[('amor', 833), ('vida', 591), ('corazón', 405), ('noche', 345), ('quiero', 321), ('vos', 312), ('ojos', 304), ('alma', 295), ('tango', 233), ('pa', 222), ('pena', 218), ('dolor', 214), ('triste', 212), ('voz', 206), ('pobre', 175), ('sos', 166), ('viejo', 166), ('mujer', 164), ('flor', 155), ('luz', 155), ('mundo', 154), ('vivir', 153), ('has', 152), ('sol', 149), ('vas', 146), ('recuerdo', 145), ('canción', 140), ('llorar', 137), ('cielo', 137), ('luna', 130), ('barrio', 128), ('o', 123), ('querer', 121), ('noches', 121), ('dios', 116), ('vieja', 113), ('camino', 107), ('viento', 103), ('olvido', 102), ('boca', 101), ('vi', 101), ('manos', 100), ('loco', 98), ('ilusión', 96), ('adiós', 96), ('sueño', 94), ('amores', 93), ('siento', 93), ('ay', 92), ('beso', 91), ('cariño', 91), ('volver', 91), ('aires', 91), ('feliz', 90), ('soledad', 89), ('estás', 89), ('piel', 89), ('casa', 88), ('milonga', 88), ('fuiste', 87), ('penas', 87), ('calle', 85), ('hombre', 84), ('canto', 83), ('dulce', 82), ('ves', 82), ('madre', 82), ('besos', 81), ('mano', 81), ('destino', 78), ('linda', 78), ('pasión', 78), ('años', 77), ('buscando', 77), ('labios', 77), ('llorando', 76), ('gente', 76), ('fe', 75), ('morir', 75), ('sombra', 75)]\n"
     ]
    }
   ],
   "source": [
    "data = word_freq.most_common(80)\n",
    "\n",
    "print(data)"
   ]
  }
 ],
 "metadata": {
  "interpreter": {
   "hash": "7be7487ffd1c8532f5bf2908cda7abab31a4f48b443b7cd87227c5298a59b1e5"
  },
  "kernelspec": {
   "display_name": "Python 3.8.10 ('venv': venv)",
   "language": "python",
   "name": "python3"
  },
  "language_info": {
   "codemirror_mode": {
    "name": "ipython",
    "version": 3
   },
   "file_extension": ".py",
   "mimetype": "text/x-python",
   "name": "python",
   "nbconvert_exporter": "python",
   "pygments_lexer": "ipython3",
   "version": "3.8.10"
  },
  "orig_nbformat": 4
 },
 "nbformat": 4,
 "nbformat_minor": 2
}
