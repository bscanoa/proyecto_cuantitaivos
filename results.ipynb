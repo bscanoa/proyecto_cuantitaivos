{
 "cells": [
  {
   "cell_type": "code",
   "execution_count": 30,
   "metadata": {},
   "outputs": [],
   "source": [
    "import pandas as pd \n",
    "import numpy as np\n",
    "import matplotlib.pyplot as plt"
   ]
  },
  {
   "cell_type": "code",
   "execution_count": 31,
   "metadata": {},
   "outputs": [
    {
     "name": "stdout",
     "output_type": "stream",
     "text": [
      "799\n"
     ]
    }
   ],
   "source": [
    "genre = 'bolero'\n",
    "tango = pd.read_csv(f'/mnt/s/stiven/proyects/final_cuanti/final_data/{genre}_with_e.csv', sep='|', header=0,\n",
    "                 names = ['song_name', 'artist', 'lyric', 'lyric_by_e', 'lang', 'lyric_length', 'eval', 'misogy_estr'])\n",
    "tango = tango.dropna(axis = 0, how ='any') \n",
    "print(len(tango))"
   ]
  },
  {
   "cell_type": "code",
   "execution_count": 32,
   "metadata": {},
   "outputs": [
    {
     "data": {
      "text/html": [
       "<div>\n",
       "<style scoped>\n",
       "    .dataframe tbody tr th:only-of-type {\n",
       "        vertical-align: middle;\n",
       "    }\n",
       "\n",
       "    .dataframe tbody tr th {\n",
       "        vertical-align: top;\n",
       "    }\n",
       "\n",
       "    .dataframe thead th {\n",
       "        text-align: right;\n",
       "    }\n",
       "</style>\n",
       "<table border=\"1\" class=\"dataframe\">\n",
       "  <thead>\n",
       "    <tr style=\"text-align: right;\">\n",
       "      <th></th>\n",
       "      <th>Categoría</th>\n",
       "      <th>Resultados por Categoría Bolero</th>\n",
       "    </tr>\n",
       "  </thead>\n",
       "  <tbody>\n",
       "    <tr>\n",
       "      <th>3</th>\n",
       "      <td>acoso sexual</td>\n",
       "      <td>37.707621</td>\n",
       "    </tr>\n",
       "    <tr>\n",
       "      <th>4</th>\n",
       "      <td>acoso sexual</td>\n",
       "      <td>69.541377</td>\n",
       "    </tr>\n",
       "    <tr>\n",
       "      <th>6</th>\n",
       "      <td>acoso sexual</td>\n",
       "      <td>44.080642</td>\n",
       "    </tr>\n",
       "    <tr>\n",
       "      <th>7</th>\n",
       "      <td>acoso sexual</td>\n",
       "      <td>38.658020</td>\n",
       "    </tr>\n",
       "    <tr>\n",
       "      <th>9</th>\n",
       "      <td>estereotipo</td>\n",
       "      <td>77.341944</td>\n",
       "    </tr>\n",
       "    <tr>\n",
       "      <th>...</th>\n",
       "      <td>...</td>\n",
       "      <td>...</td>\n",
       "    </tr>\n",
       "    <tr>\n",
       "      <th>788</th>\n",
       "      <td>estereotipo</td>\n",
       "      <td>70.072818</td>\n",
       "    </tr>\n",
       "    <tr>\n",
       "      <th>791</th>\n",
       "      <td>estereotipo</td>\n",
       "      <td>60.500437</td>\n",
       "    </tr>\n",
       "    <tr>\n",
       "      <th>792</th>\n",
       "      <td>acoso sexual</td>\n",
       "      <td>70.761889</td>\n",
       "    </tr>\n",
       "    <tr>\n",
       "      <th>793</th>\n",
       "      <td>estereotipo</td>\n",
       "      <td>26.613989</td>\n",
       "    </tr>\n",
       "    <tr>\n",
       "      <th>795</th>\n",
       "      <td>estereotipo</td>\n",
       "      <td>35.942560</td>\n",
       "    </tr>\n",
       "  </tbody>\n",
       "</table>\n",
       "<p>217 rows × 2 columns</p>\n",
       "</div>"
      ],
      "text/plain": [
       "        Categoría  Resultados por Categoría Bolero\n",
       "3    acoso sexual                        37.707621\n",
       "4    acoso sexual                        69.541377\n",
       "6    acoso sexual                        44.080642\n",
       "7    acoso sexual                        38.658020\n",
       "9     estereotipo                        77.341944\n",
       "..            ...                              ...\n",
       "788   estereotipo                        70.072818\n",
       "791   estereotipo                        60.500437\n",
       "792  acoso sexual                        70.761889\n",
       "793   estereotipo                        26.613989\n",
       "795   estereotipo                        35.942560\n",
       "\n",
       "[217 rows x 2 columns]"
      ]
     },
     "execution_count": 32,
     "metadata": {},
     "output_type": "execute_result"
    }
   ],
   "source": [
    "import ast\n",
    "genre = genre.capitalize()\n",
    "df = pd.DataFrame(columns=['Categoría', f'Resultados por Categoría {genre}'])\n",
    "for elm in tango['eval']:\n",
    "    li = ast.literal_eval(elm)\n",
    "\n",
    "    a = li[0][0]\n",
    "    b = li[0][1]\n",
    "\n",
    "    if a == 'active' or a == 'passive':\n",
    "        a = li[1][0]\n",
    "        b = li[0][1]\n",
    "\n",
    "    if a == 'sexual_harassment':\n",
    "        a ='acoso sexual'\n",
    "    elif a == 'discredit':\n",
    "        a = 'desprestigio' \n",
    "    elif a == 'stereotype':\n",
    "        a = 'estereotipo'\n",
    "    elif a == 'dominance':\n",
    "        a = 'dominancia'\n",
    "\n",
    "    df.loc[len(df)] = [a, b]\n",
    "indexLang = df[round(df[f'Resultados por Categoría {genre}']) < 25].index\n",
    "df.drop(indexLang, inplace=True)\n",
    "df"
   ]
  },
  {
   "cell_type": "code",
   "execution_count": 33,
   "metadata": {},
   "outputs": [
    {
     "name": "stdout",
     "output_type": "stream",
     "text": [
      "Moda: 0, Media: 53.66762210421848, Mediana: 51.90976858139038, Desviación estandar: 20.20948336659156\n",
      "1er Q: 35.747942328453064, 2er Q: 51.90976858139038, 3er Q: 71.3228702545166\n"
     ]
    },
    {
     "data": {
      "image/png": "[encoded data removed]",
      "text/plain": [
       "<Figure size 432x288 with 1 Axes>"
      ]
     },
     "metadata": {
      "needs_background": "light"
     },
     "output_type": "display_data"
    }
   ],
   "source": [
    "import statistics as std\n",
    "dat = df[f'Resultados por Categoría {genre}'].to_list()\n",
    "sorted(dat, reverse=True).pop(0)\n",
    "mdat = np.ma.masked_array(dat,np.isnan(dat))\n",
    "#mdat = np.delete(sorted(mdat, reverse=True), 0) #elminar el valor más grande\n",
    "\n",
    "\n",
    "media_ly_lg = np.mean(mdat)\n",
    "mediana_ly_lg = np.median(mdat)\n",
    "moda_ly_lg = 0\n",
    "#moda_ly_lg = stat.mode(dat)\n",
    "desv_estandar = np.std(mdat)\n",
    "primerq = np.quantile(mdat, 0.25)\n",
    "segundoq = np.quantile(mdat, 0.50)\n",
    "tercerq = np.quantile(mdat, 0.75)\n",
    "plt.hist(mdat, bins=25)\n",
    "\n",
    "print(f'Moda: {moda_ly_lg}, Media: {media_ly_lg}, Mediana: {mediana_ly_lg}, Desviación estandar: {desv_estandar}')\n",
    "print(f'1er Q: {primerq}, 2er Q: {segundoq}, 3er Q: {tercerq}')"
   ]
  },
  {
   "cell_type": "code",
   "execution_count": 34,
   "metadata": {},
   "outputs": [
    {
     "name": "stdout",
     "output_type": "stream",
     "text": [
      "217\n"
     ]
    },
    {
     "data": {
      "text/plain": [
       "acoso sexual    122\n",
       "estereotipo      84\n",
       "dominancia        8\n",
       "desprestigio      3\n",
       "Name: Categoría, dtype: int64"
      ]
     },
     "execution_count": 34,
     "metadata": {},
     "output_type": "execute_result"
    }
   ],
   "source": [
    "print(len(df))\n",
    "df['Categoría'].value_counts()"
   ]
  },
  {
   "cell_type": "code",
   "execution_count": 35,
   "metadata": {},
   "outputs": [
    {
     "data": {
      "text/plain": [
       "Resultados por Categoría Bolero    AxesSubplot(0.125,0.125;0.775x0.755)\n",
       "dtype: object"
      ]
     },
     "execution_count": 35,
     "metadata": {},
     "output_type": "execute_result"
    },
    {
     "data": {
      "image/png": "[encoded data removed]",
      "text/plain": [
       "<Figure size 432x288 with 1 Axes>"
      ]
     },
     "metadata": {
      "needs_background": "light"
     },
     "output_type": "display_data"
    }
   ],
   "source": [
    "ax = plt.axes()\n",
    "ax.set_ylabel('Prob. por canción')\n",
    "ax.set_title(f'{genre.capitalize}')\n",
    "df.plot.box(by='Categoría', ax=ax)"
   ]
  },
  {
   "cell_type": "code",
   "execution_count": 36,
   "metadata": {},
   "outputs": [
    {
     "data": {
      "text/plain": [
       "105"
      ]
     },
     "execution_count": 36,
     "metadata": {},
     "output_type": "execute_result"
    }
   ],
   "source": [
    "l = []\n",
    "exam = []\n",
    "for elm in tango['misogy_estr']:\n",
    "    elm = ast.literal_eval(elm)\n",
    "    if elm[2] > 2:\n",
    "        l.append(elm[2])\n",
    "    if elm[2] > 6:\n",
    "        exam.append((elm[0], elm[1]))\n",
    "len(l)"
   ]
  },
  {
   "cell_type": "code",
   "execution_count": 37,
   "metadata": {},
   "outputs": [
    {
     "data": {
      "image/png": "[encoded data removed]",
      "text/plain": [
       "<Figure size 432x288 with 1 Axes>"
      ]
     },
     "metadata": {
      "needs_background": "light"
     },
     "output_type": "display_data"
    }
   ],
   "source": [
    "ax = plt.axes()\n",
    "ax.set_ylabel('Número de canciones')\n",
    "ax.set_xlabel(f'Cantidad estrofas evaluadas como misoginas, ')\n",
    "ax.set_title(f'Catidad de estrofas misoginas en canciones de {genre}')\n",
    "plt.hist(l, bins=10)\n",
    "plt.show()"
   ]
  },
  {
   "cell_type": "code",
   "execution_count": 38,
   "metadata": {},
   "outputs": [
    {
     "data": {
      "text/plain": [
       "<AxesSubplot:ylabel='Categoría'>"
      ]
     },
     "execution_count": 38,
     "metadata": {},
     "output_type": "execute_result"
    },
    {
     "data": {
      "image/png": "[encoded data removed]",
      "text/plain": [
       "<Figure size 432x288 with 1 Axes>"
      ]
     },
     "metadata": {},
     "output_type": "display_data"
    }
   ],
   "source": [
    "df['Categoría'].value_counts().plot.pie()"
   ]
  },
  {
   "cell_type": "code",
   "execution_count": 39,
   "metadata": {},
   "outputs": [
    {
     "data": {
      "text/html": [
       "<div>\n",
       "<style scoped>\n",
       "    .dataframe tbody tr th:only-of-type {\n",
       "        vertical-align: middle;\n",
       "    }\n",
       "\n",
       "    .dataframe tbody tr th {\n",
       "        vertical-align: top;\n",
       "    }\n",
       "\n",
       "    .dataframe thead th {\n",
       "        text-align: right;\n",
       "    }\n",
       "</style>\n",
       "<table border=\"1\" class=\"dataframe\">\n",
       "  <thead>\n",
       "    <tr style=\"text-align: right;\">\n",
       "      <th></th>\n",
       "      <th>song_name</th>\n",
       "      <th>artist</th>\n",
       "      <th>tag</th>\n",
       "      <th>value</th>\n",
       "      <th>estr_my</th>\n",
       "      <th>exam</th>\n",
       "    </tr>\n",
       "  </thead>\n",
       "  <tbody>\n",
       "    <tr>\n",
       "      <th>1</th>\n",
       "      <td>Cuando Llora Mi Guitarra</td>\n",
       "      <td>Julio Jaramillo</td>\n",
       "      <td>stereotype</td>\n",
       "      <td>3.006009</td>\n",
       "      <td>0</td>\n",
       "      <td>Guitarra Tú que interpretas en tu vibrar mi qu...</td>\n",
       "    </tr>\n",
       "    <tr>\n",
       "      <th>2</th>\n",
       "      <td>Te Lo Pido Por Favor</td>\n",
       "      <td>Juan Gabriel</td>\n",
       "      <td>sexual_harassment</td>\n",
       "      <td>8.103152</td>\n",
       "      <td>0</td>\n",
       "      <td>Oh no, no, no Pero no me dejes nunca, nunca, n...</td>\n",
       "    </tr>\n",
       "    <tr>\n",
       "      <th>3</th>\n",
       "      <td>Triunfamos</td>\n",
       "      <td>Los Panchos</td>\n",
       "      <td>sexual_harassment</td>\n",
       "      <td>2.326144</td>\n",
       "      <td>0</td>\n",
       "      <td>Une tu voz a mi voz Para gritar que vencimos Y...</td>\n",
       "    </tr>\n",
       "    <tr>\n",
       "      <th>4</th>\n",
       "      <td>Nuestro Juramento</td>\n",
       "      <td>Julio Jaramillo</td>\n",
       "      <td>sexual_harassment</td>\n",
       "      <td>37.707621</td>\n",
       "      <td>2</td>\n",
       "      <td>Si tú mueres primero, yo te prometo Escribiré ...</td>\n",
       "    </tr>\n",
       "    <tr>\n",
       "      <th>5</th>\n",
       "      <td>Sombras</td>\n",
       "      <td>Julio Jaramillo</td>\n",
       "      <td>sexual_harassment</td>\n",
       "      <td>69.541377</td>\n",
       "      <td>3</td>\n",
       "      <td>En la penumbra vaga De la pequeña alcoba, Dond...</td>\n",
       "    </tr>\n",
       "  </tbody>\n",
       "</table>\n",
       "</div>"
      ],
      "text/plain": [
       "                  song_name           artist                tag      value  \\\n",
       "1  Cuando Llora Mi Guitarra  Julio Jaramillo         stereotype   3.006009   \n",
       "2      Te Lo Pido Por Favor     Juan Gabriel  sexual_harassment   8.103152   \n",
       "3                Triunfamos      Los Panchos  sexual_harassment   2.326144   \n",
       "4         Nuestro Juramento  Julio Jaramillo  sexual_harassment  37.707621   \n",
       "5                   Sombras  Julio Jaramillo  sexual_harassment  69.541377   \n",
       "\n",
       "   estr_my                                               exam  \n",
       "1        0  Guitarra Tú que interpretas en tu vibrar mi qu...  \n",
       "2        0  Oh no, no, no Pero no me dejes nunca, nunca, n...  \n",
       "3        0  Une tu voz a mi voz Para gritar que vencimos Y...  \n",
       "4        2  Si tú mueres primero, yo te prometo Escribiré ...  \n",
       "5        3  En la penumbra vaga De la pequeña alcoba, Dond...  "
      ]
     },
     "execution_count": 39,
     "metadata": {},
     "output_type": "execute_result"
    }
   ],
   "source": [
    "tango =tango.drop(['lang', 'lyric', 'lyric_length', 'lyric_by_e'], axis=1)\n",
    "\n",
    "def set_est(li):\n",
    "    import ast\n",
    "    li = ast.literal_eval(li)\n",
    "\n",
    "    a = li[0][0]\n",
    "    b = li[0][1]\n",
    "\n",
    "    if a == 'active' or a == 'passive':\n",
    "        a = li[1][0]\n",
    "        b = li[0][1]\n",
    "    return(a, b)\n",
    "\n",
    "def tag(t):\n",
    "    return t[0]\n",
    "\n",
    "def value(t):\n",
    "    return t[1]\n",
    "def count(s):\n",
    "    t = ast.literal_eval(s)\n",
    "    return t[2]\n",
    "def exam(s):\n",
    "    t = ast.literal_eval(s)\n",
    "    return t[0]\n",
    "tango['mayor_tag'] = tango['eval'].apply(set_est)\n",
    "tango['tag'] = tango['mayor_tag'].apply(tag)\n",
    "tango['value'] = tango['mayor_tag'].apply(value)\n",
    "tango['estr_my'] = tango['misogy_estr'].apply(count)\n",
    "tango['exam'] = tango['misogy_estr'].apply(exam)\n",
    "tango = tango.drop(['misogy_estr', 'eval', 'mayor_tag'], axis=1)\n",
    "tango.head()"
   ]
  },
  {
   "cell_type": "code",
   "execution_count": 40,
   "metadata": {},
   "outputs": [
    {
     "data": {
      "text/html": [
       "<div>\n",
       "<style scoped>\n",
       "    .dataframe tbody tr th:only-of-type {\n",
       "        vertical-align: middle;\n",
       "    }\n",
       "\n",
       "    .dataframe tbody tr th {\n",
       "        vertical-align: top;\n",
       "    }\n",
       "\n",
       "    .dataframe thead th {\n",
       "        text-align: right;\n",
       "    }\n",
       "</style>\n",
       "<table border=\"1\" class=\"dataframe\">\n",
       "  <thead>\n",
       "    <tr style=\"text-align: right;\">\n",
       "      <th></th>\n",
       "      <th>song_name</th>\n",
       "      <th>artist</th>\n",
       "      <th>tag</th>\n",
       "      <th>value</th>\n",
       "      <th>estr_my</th>\n",
       "      <th>exam</th>\n",
       "    </tr>\n",
       "  </thead>\n",
       "  <tbody>\n",
       "    <tr>\n",
       "      <th>568</th>\n",
       "      <td>Ladrona de Besos</td>\n",
       "      <td>Los Panchos</td>\n",
       "      <td>discredit</td>\n",
       "      <td>96.113515</td>\n",
       "      <td>3</td>\n",
       "      <td>Te vas de mi lado Buscando otra boca Ladrona d...</td>\n",
       "    </tr>\n",
       "    <tr>\n",
       "      <th>66</th>\n",
       "      <td>La Farsante</td>\n",
       "      <td>Juan Gabriel</td>\n",
       "      <td>sexual_harassment</td>\n",
       "      <td>93.854213</td>\n",
       "      <td>4</td>\n",
       "      <td>Porque tu a mis espaldas me hiciste traición H...</td>\n",
       "    </tr>\n",
       "    <tr>\n",
       "      <th>35</th>\n",
       "      <td>Madrid</td>\n",
       "      <td>Agustín Lara</td>\n",
       "      <td>sexual_harassment</td>\n",
       "      <td>92.770219</td>\n",
       "      <td>1</td>\n",
       "      <td>Madrid Madrid Madrid En México se piensa mucho...</td>\n",
       "    </tr>\n",
       "    <tr>\n",
       "      <th>714</th>\n",
       "      <td>Aventurera</td>\n",
       "      <td>Agustín Lara</td>\n",
       "      <td>stereotype</td>\n",
       "      <td>91.260940</td>\n",
       "      <td>3</td>\n",
       "      <td>Ya que la infamia de tu ruin destino Marchito ...</td>\n",
       "    </tr>\n",
       "    <tr>\n",
       "      <th>888</th>\n",
       "      <td>Loca Tentación</td>\n",
       "      <td>Agustín Lara</td>\n",
       "      <td>sexual_harassment</td>\n",
       "      <td>90.333033</td>\n",
       "      <td>3</td>\n",
       "      <td>En esta boca quiero beber Las dulces mieles de...</td>\n",
       "    </tr>\n",
       "    <tr>\n",
       "      <th>408</th>\n",
       "      <td>Mujer Ingrata</td>\n",
       "      <td>Oscar Agudelo</td>\n",
       "      <td>stereotype</td>\n",
       "      <td>90.026385</td>\n",
       "      <td>2</td>\n",
       "      <td>No te exijo que vuelvas a mi lado Porque creo ...</td>\n",
       "    </tr>\n",
       "    <tr>\n",
       "      <th>978</th>\n",
       "      <td>No lloraré</td>\n",
       "      <td>Los Dandys</td>\n",
       "      <td>sexual_harassment</td>\n",
       "      <td>88.710511</td>\n",
       "      <td>2</td>\n",
       "      <td>No lloraré mientras tenga tus labios Y me mire...</td>\n",
       "    </tr>\n",
       "    <tr>\n",
       "      <th>386</th>\n",
       "      <td>El Día Que Me Quieras</td>\n",
       "      <td>Los Panchos</td>\n",
       "      <td>sexual_harassment</td>\n",
       "      <td>88.193530</td>\n",
       "      <td>1</td>\n",
       "      <td>Acaricia mi ensueño El suave murmullo de tu su...</td>\n",
       "    </tr>\n",
       "    <tr>\n",
       "      <th>285</th>\n",
       "      <td>Violetas Imperiales</td>\n",
       "      <td>Antonio Prieto</td>\n",
       "      <td>stereotype</td>\n",
       "      <td>87.036937</td>\n",
       "      <td>1</td>\n",
       "      <td>Violeta para ti, tengo yo una canción, la mism...</td>\n",
       "    </tr>\n",
       "    <tr>\n",
       "      <th>146</th>\n",
       "      <td>Te voy a olvidar</td>\n",
       "      <td>Juan Gabriel</td>\n",
       "      <td>dominance</td>\n",
       "      <td>86.621654</td>\n",
       "      <td>6</td>\n",
       "      <td>Te voy a olvidar, te voy a olvidar Aun que me ...</td>\n",
       "    </tr>\n",
       "  </tbody>\n",
       "</table>\n",
       "</div>"
      ],
      "text/plain": [
       "                 song_name          artist                tag      value  \\\n",
       "568       Ladrona de Besos     Los Panchos          discredit  96.113515   \n",
       "66             La Farsante    Juan Gabriel  sexual_harassment  93.854213   \n",
       "35                  Madrid    Agustín Lara  sexual_harassment  92.770219   \n",
       "714             Aventurera    Agustín Lara         stereotype  91.260940   \n",
       "888         Loca Tentación    Agustín Lara  sexual_harassment  90.333033   \n",
       "408          Mujer Ingrata   Oscar Agudelo         stereotype  90.026385   \n",
       "978             No lloraré      Los Dandys  sexual_harassment  88.710511   \n",
       "386  El Día Que Me Quieras     Los Panchos  sexual_harassment  88.193530   \n",
       "285    Violetas Imperiales  Antonio Prieto         stereotype  87.036937   \n",
       "146       Te voy a olvidar    Juan Gabriel          dominance  86.621654   \n",
       "\n",
       "     estr_my                                               exam  \n",
       "568        3  Te vas de mi lado Buscando otra boca Ladrona d...  \n",
       "66         4  Porque tu a mis espaldas me hiciste traición H...  \n",
       "35         1  Madrid Madrid Madrid En México se piensa mucho...  \n",
       "714        3  Ya que la infamia de tu ruin destino Marchito ...  \n",
       "888        3  En esta boca quiero beber Las dulces mieles de...  \n",
       "408        2  No te exijo que vuelvas a mi lado Porque creo ...  \n",
       "978        2  No lloraré mientras tenga tus labios Y me mire...  \n",
       "386        1  Acaricia mi ensueño El suave murmullo de tu su...  \n",
       "285        1  Violeta para ti, tengo yo una canción, la mism...  \n",
       "146        6  Te voy a olvidar, te voy a olvidar Aun que me ...  "
      ]
     },
     "execution_count": 40,
     "metadata": {},
     "output_type": "execute_result"
    }
   ],
   "source": [
    "length = tango.sort_values('value', ascending=False)[:40]\n",
    "length[:10]"
   ]
  },
  {
   "cell_type": "code",
   "execution_count": 41,
   "metadata": {},
   "outputs": [
    {
     "data": {
      "text/html": [
       "<div>\n",
       "<style scoped>\n",
       "    .dataframe tbody tr th:only-of-type {\n",
       "        vertical-align: middle;\n",
       "    }\n",
       "\n",
       "    .dataframe tbody tr th {\n",
       "        vertical-align: top;\n",
       "    }\n",
       "\n",
       "    .dataframe thead th {\n",
       "        text-align: right;\n",
       "    }\n",
       "</style>\n",
       "<table border=\"1\" class=\"dataframe\">\n",
       "  <thead>\n",
       "    <tr style=\"text-align: right;\">\n",
       "      <th></th>\n",
       "      <th>song_name</th>\n",
       "      <th>artist</th>\n",
       "      <th>tag</th>\n",
       "      <th>value</th>\n",
       "      <th>estr_my</th>\n",
       "      <th>exam</th>\n",
       "    </tr>\n",
       "  </thead>\n",
       "  <tbody>\n",
       "    <tr>\n",
       "      <th>449</th>\n",
       "      <td>El Cuarto De Tula</td>\n",
       "      <td>Compay Segundo</td>\n",
       "      <td>stereotype</td>\n",
       "      <td>6.358850</td>\n",
       "      <td>12</td>\n",
       "      <td>(dicho) Candela, muchacho Se volvió loco, Barb...</td>\n",
       "    </tr>\n",
       "    <tr>\n",
       "      <th>684</th>\n",
       "      <td>Maria En La Playa</td>\n",
       "      <td>Compay Segundo</td>\n",
       "      <td>stereotype</td>\n",
       "      <td>29.180971</td>\n",
       "      <td>10</td>\n",
       "      <td>Dame una mano María Dame la otra María Dame lo...</td>\n",
       "    </tr>\n",
       "    <tr>\n",
       "      <th>243</th>\n",
       "      <td>La Flor de la Canela</td>\n",
       "      <td>Antonio Prieto</td>\n",
       "      <td>stereotype</td>\n",
       "      <td>75.307041</td>\n",
       "      <td>7</td>\n",
       "      <td>Del puente a la alameda, menudo pie la lleva, ...</td>\n",
       "    </tr>\n",
       "    <tr>\n",
       "      <th>374</th>\n",
       "      <td>Esta Rosa Roja</td>\n",
       "      <td>Juan Gabriel</td>\n",
       "      <td>sexual_harassment</td>\n",
       "      <td>85.993260</td>\n",
       "      <td>6</td>\n",
       "      <td>lalarailalaila......</td>\n",
       "    </tr>\n",
       "    <tr>\n",
       "      <th>908</th>\n",
       "      <td>Te Propongo Matrimonio</td>\n",
       "      <td>Juan Gabriel</td>\n",
       "      <td>sexual_harassment</td>\n",
       "      <td>62.096786</td>\n",
       "      <td>6</td>\n",
       "      <td>te propongo matrimonio</td>\n",
       "    </tr>\n",
       "    <tr>\n",
       "      <th>146</th>\n",
       "      <td>Te voy a olvidar</td>\n",
       "      <td>Juan Gabriel</td>\n",
       "      <td>dominance</td>\n",
       "      <td>86.621654</td>\n",
       "      <td>6</td>\n",
       "      <td>Te voy a olvidar, te voy a olvidar Aun que me ...</td>\n",
       "    </tr>\n",
       "    <tr>\n",
       "      <th>507</th>\n",
       "      <td>Con Una Rosa En La Mano</td>\n",
       "      <td>Juan Gabriel</td>\n",
       "      <td>sexual_harassment</td>\n",
       "      <td>85.344154</td>\n",
       "      <td>6</td>\n",
       "      <td>Lalarailalaila</td>\n",
       "    </tr>\n",
       "    <tr>\n",
       "      <th>385</th>\n",
       "      <td>Longina</td>\n",
       "      <td>Compay Segundo</td>\n",
       "      <td>sexual_harassment</td>\n",
       "      <td>82.307822</td>\n",
       "      <td>5</td>\n",
       "      <td>Te comparo con Una santa diosa Longina seducto...</td>\n",
       "    </tr>\n",
       "    <tr>\n",
       "      <th>302</th>\n",
       "      <td>Bésame</td>\n",
       "      <td>Juan Gabriel</td>\n",
       "      <td>sexual_harassment</td>\n",
       "      <td>76.968598</td>\n",
       "      <td>5</td>\n",
       "      <td>Besame a quien le tienes tanto miedo ...</td>\n",
       "    </tr>\n",
       "    <tr>\n",
       "      <th>144</th>\n",
       "      <td>Para Ti Madrecita</td>\n",
       "      <td>Julio Jaramillo</td>\n",
       "      <td>stereotype</td>\n",
       "      <td>35.747942</td>\n",
       "      <td>5</td>\n",
       "      <td>Yo sé que en este mundo hay una sola madre Y n...</td>\n",
       "    </tr>\n",
       "  </tbody>\n",
       "</table>\n",
       "</div>"
      ],
      "text/plain": [
       "                   song_name           artist                tag      value  \\\n",
       "449        El Cuarto De Tula   Compay Segundo         stereotype   6.358850   \n",
       "684        Maria En La Playa   Compay Segundo         stereotype  29.180971   \n",
       "243     La Flor de la Canela   Antonio Prieto         stereotype  75.307041   \n",
       "374           Esta Rosa Roja     Juan Gabriel  sexual_harassment  85.993260   \n",
       "908   Te Propongo Matrimonio     Juan Gabriel  sexual_harassment  62.096786   \n",
       "146         Te voy a olvidar     Juan Gabriel          dominance  86.621654   \n",
       "507  Con Una Rosa En La Mano     Juan Gabriel  sexual_harassment  85.344154   \n",
       "385                  Longina   Compay Segundo  sexual_harassment  82.307822   \n",
       "302                   Bésame     Juan Gabriel  sexual_harassment  76.968598   \n",
       "144        Para Ti Madrecita  Julio Jaramillo         stereotype  35.747942   \n",
       "\n",
       "     estr_my                                               exam  \n",
       "449       12  (dicho) Candela, muchacho Se volvió loco, Barb...  \n",
       "684       10  Dame una mano María Dame la otra María Dame lo...  \n",
       "243        7  Del puente a la alameda, menudo pie la lleva, ...  \n",
       "374        6                               lalarailalaila......  \n",
       "908        6                             te propongo matrimonio  \n",
       "146        6  Te voy a olvidar, te voy a olvidar Aun que me ...  \n",
       "507        6                                     Lalarailalaila  \n",
       "385        5  Te comparo con Una santa diosa Longina seducto...  \n",
       "302        5           Besame a quien le tienes tanto miedo ...  \n",
       "144        5  Yo sé que en este mundo hay una sola madre Y n...  "
      ]
     },
     "execution_count": 41,
     "metadata": {},
     "output_type": "execute_result"
    }
   ],
   "source": [
    "length = tango.sort_values('estr_my', ascending=False)[:40]\n",
    "length[:10]"
   ]
  }
 ],
 "metadata": {
  "interpreter": {
   "hash": "588a4c9d4c9ed512c50f13a0a836934a8dcae9fea3e3776bf07e4c9061678486"
  },
  "kernelspec": {
   "display_name": "Python 3.8.10 ('venv': venv)",
   "language": "python",
   "name": "python3"
  },
  "language_info": {
   "codemirror_mode": {
    "name": "ipython",
    "version": 3
   },
   "file_extension": ".py",
   "mimetype": "text/x-python",
   "name": "python",
   "nbconvert_exporter": "python",
   "pygments_lexer": "ipython3",
   "version": "3.8.10"
  },
  "orig_nbformat": 4
 },
 "nbformat": 4,
 "nbformat_minor": 2
}
